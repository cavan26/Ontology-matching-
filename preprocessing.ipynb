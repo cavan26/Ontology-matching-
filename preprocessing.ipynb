{
 "cells": [
  {
   "cell_type": "code",
   "execution_count": 39,
   "metadata": {
    "collapsed": true
   },
   "outputs": [],
   "source": [
    "from open_ontologies import open_hpo, open_snomed\n",
    "from helpers import save_obj\n",
    "import gensim\n",
    "from nltk.corpus import stopwords\n",
    "from nltk.tokenize import word_tokenize\n"
   ]
  },
  {
   "cell_type": "code",
   "execution_count": 40,
   "metadata": {},
   "outputs": [
    {
     "name": "stdout",
     "output_type": "stream",
     "text": [
      "Load the conditions\n"
     ]
    },
    {
     "name": "stdout",
     "output_type": "stream",
     "text": [
      "Number of conditions 340640\nLoad the ontology tree\n"
     ]
    },
    {
     "name": "stdout",
     "output_type": "stream",
     "text": [
      "Number of nodes 340659\n"
     ]
    },
    {
     "name": "stdout",
     "output_type": "stream",
     "text": [
      "Number of nodes: 13867\nNumber of edges 17755\nIs a DAG: True\n"
     ]
    }
   ],
   "source": [
    "# Open the snomed ontology\n",
    "SNOMED = open_snomed(\"snomed_terms.tab\", \"snomed_term_term.tab\")\n",
    "Tree = SNOMED[1].tree\n",
    "Conditions = SNOMED[0]\n",
    "\n",
    "# Open the HPO ontology\n",
    "HPO = open_hpo()"
   ]
  },
  {
   "cell_type": "code",
   "execution_count": 31,
   "metadata": {},
   "outputs": [
    {
     "name": "stdout",
     "output_type": "stream",
     "text": [
      "0000003 : ['82525005']\n"
     ]
    }
   ],
   "source": [
    "# Look at the condition form the HPO ontology that already have a matching\n",
    "Matching = {}\n",
    "\n",
    "Nodes = list(HPO.nodes(data=True))\n",
    "for conditions in Nodes[0:1000]:\n",
    "    if 'xref' in conditions[1]:\n",
    "        for word in conditions[1]['xref']:\n",
    "            if \"SNOMEDCT\" in word:\n",
    "                if word.split('SNOMEDCT_US:')[1] in Conditions.keys():\n",
    "                    if conditions[0].split('HP:')[1] in Matching:\n",
    "                        Matching[conditions[0].split('HP:')[1]].append(word.split('SNOMEDCT_US:')[1])\n",
    "                    else:\n",
    "                        Matching[conditions[0].split('HP:')[1]] = [word.split('SNOMEDCT_US:')[1]]\n",
    "list_matching = list(Matching.keys())\n",
    "print(str(list_matching[0]) + ' : ' + str(Matching[list_matching[0]]))\n"
   ]
  },
  {
   "cell_type": "code",
   "execution_count": 18,
   "metadata": {},
   "outputs": [],
   "source": [
    ""
   ]
  },
  {
   "cell_type": "code",
   "execution_count": 68,
   "metadata": {},
   "outputs": [
    {
     "name": "stdout",
     "output_type": "stream",
     "text": [
      "Previous pregnancies \nUndescended testis \nSuperficial injury \nOpen wound \nCrushing injury \nBurn \nCellulitis \nMeckel's diverticulum \nEctopic breast tissue \nObliteration \nContusion \nForeign body \nAbscess \nLymphoid hyperplasia \nBasic activity of daily living \nEntire suture line of skin \nPhysical therapy procedure \nRadiating chest pain \nEntire stylomastoid foramen \nEntire occipitomastoid suture of skull \nResection of stomach fundus \nAccident prevention \nOver 75 health check \nTrigger point \nStellate pseudoscar \nEtiology \nWhite blood cell abnormality \nAdamantinous craniopharyngioma \nOs trigonum \nLevoversion \nNarrow \nRubella antibody level \nLeptospiral antibody level \nRoller ball diathermy of endometrium \nHepatitis C antibody level \nTreponema pallidum reagin antibody level \nLanguage read \nReads Urdu \nReads Tamil \nReads Spanish \nReads Somali \nReads Russian \nReads Punjabi \nReads Portuguese \nReads Polish \nReads Hindi \nReads French \nEndometrial sampling using pipelle \nReads English \nReads Czech \nReads Chinese \nReads Cantonese \nReads Bengali \nReads Arabic \nChlamydia group antibody level \nVocal cord dysfunction \nMultiple fractures \nFissured \nImpacted \nOpaque \nParadoxical embolism \nTransvaginal drainage of ovarian cyst \nSclerosing angioma \nNodes of Kent \nNeuroepithelial tumor morphology of uncertain origin \nPhiladelphia positive \nPhiladelphia negative \nOdontogenic ghost cell carcinoma \nBilateral adrenal glands \nLinear fracture \nLipoma morphology \nHemangiopericytoma \nSomatostatinoma morphology \nLipid-lowering therapy \nIncised wound - morphology \nBrush border antibody \nImplantation of insertable loop recorder \nHatmaker \nMetalworking-machine operator \nHearing test bilateral abnormality \nHearing test left abnormality \nHearing test right abnormality \nMonofilament foot sensation test \nDiabetic retinopathy screening \nDeep vein thrombosis of leg related to air travel \nLeft ventricular systolic dysfunction \nCholesterol polyp of gallbladder \nUrgent referral \nCycle of change stage \nRelapse stage \nMaintenance stage \nAction stage \nPreparation stage \nContemplation stage \nPrecontemplation stage \nNormal mood symptoms \nLevel of mood - normal \nLevel of interest - normal \nNormal concentration \n"
     ]
    }
   ],
   "source": [
    "list_snomed_name = list(Conditions.keys())\n",
    "for condition in list_snomed_name[1:100]:\n",
    "    print(Conditions[condition].split('(')[0])\n",
    "    \n",
    "Nodes = list(HPO.nodes(data=True))\n",
    "for text in Nodes[0:10]:\n",
    "    Name = text[1]['name']\n",
    "    tokens = word_tokenize(Name)\n",
    "    Code = text[0].split('HP:')[1]\n",
    "    for snomed_name in list_snomed_name:\n",
    "        if Name.lower() == snomed_name.lower():\n",
    "            tokens = word_tokenize(Name)\n",
    "            print('Perfect match!')\n"
   ]
  },
  {
   "cell_type": "code",
   "execution_count": 69,
   "metadata": {},
   "outputs": [],
   "source": [
    "from gensim.models.keyedvectors import KeyedVectors\n",
    "\n",
    "model = KeyedVectors.load_word2vec_format('PMC-w2v.bin', binary=True)"
   ]
  },
  {
   "cell_type": "code",
   "execution_count": null,
   "metadata": {},
   "outputs": [],
   "source": []
  }
 ],
 "metadata": {
  "kernelspec": {
   "display_name": "Python 2",
   "language": "python",
   "name": "python2"
  },
  "language_info": {
   "codemirror_mode": {
    "name": "ipython",
    "version": 2
   },
   "file_extension": ".py",
   "mimetype": "text/x-python",
   "name": "python",
   "nbconvert_exporter": "python",
   "pygments_lexer": "ipython2",
   "version": "2.7.6"
  }
 },
 "nbformat": 4,
 "nbformat_minor": 0
}
